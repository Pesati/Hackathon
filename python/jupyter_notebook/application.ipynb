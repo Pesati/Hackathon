{
 "cells": [
  {
   "cell_type": "markdown",
   "id": "c975e187-194c-47be-b700-ca238d1e6e5a",
   "metadata": {},
   "source": [
    "# Import das Bibliotecas"
   ]
  },
  {
   "cell_type": "code",
   "execution_count": 204,
   "id": "a982049e-d75d-485c-a060-a31f926a96d1",
   "metadata": {},
   "outputs": [],
   "source": [
    "import numpy as np\n",
    "import pandas as pd\n",
    "import random\n",
    "import pymysql\n",
    "from itertools import combinations\n",
    "from sqlalchemy import create_engine"
   ]
  },
  {
   "cell_type": "markdown",
   "id": "7c5f5219-f416-48ec-9b11-7814598a5502",
   "metadata": {},
   "source": [
    "# Gerar Dados Fictícios de Investimento"
   ]
  },
  {
   "cell_type": "code",
   "execution_count": 731,
   "id": "80883b6d-a11c-4867-84b9-9d7879e0349c",
   "metadata": {},
   "outputs": [],
   "source": [
    "# Lendo o arquivo\n",
    "df_invest = pd.read_csv(\"API_investimentos.csv\", sep=';')"
   ]
  },
  {
   "cell_type": "code",
   "execution_count": 780,
   "id": "b6ef481b-9d1c-4b16-9ed3-f5cfeaa14dac",
   "metadata": {},
   "outputs": [],
   "source": [
    "# ProductType = 0:  Renda Fixa Bancaria\n",
    "# ProductType = 1: Renda Fixa Credito\n",
    "# ProductType = 2: Renda Variavel\n",
    "\n",
    "#InvestmentType = 1: CDB\n",
    "#InvestmentType = 2: RDB\n",
    "#InvestmentType = 3: LCI\n",
    "#InvestmentType = 4: LCA\n",
    "#InvestmentType = 5: Titulo do Tesouro\n",
    "#InvestmentType = 6: Debentures\n",
    "#InvestmentType = 7: CRI\n",
    "#InvestmentType = 8: CRA \n",
    "#InvestmentType = 9: Acoes\n",
    "#InvestmentType = 10: Fundos de Renda Fixa\n",
    "#InvestmentType = 11: Fundos Multimercado\n",
    "#InvestmentType = 12: Fundos Renda Variavel"
   ]
  },
  {
   "cell_type": "code",
   "execution_count": 737,
   "id": "e8026850-d5b8-478d-9ae5-657e7f1f9f25",
   "metadata": {},
   "outputs": [],
   "source": [
    "# Lista de bancos e outras variáveis\n",
    "\n",
    "cdi_hoje_ano = 11.61\n",
    "cdi_hoje_mes = 0.92\n",
    "\n",
    "ipca_hoje_ano = 10.54\n",
    "ipca_hoje_mes = 0.83\n",
    "\n",
    "selic_hoje_ano = 11.75\n",
    "\n",
    "ibov_ano = 21.19\n",
    "\n",
    "bancos = ['Safra', 'Banco A', 'Banco B', 'Banco C']\n",
    "\n",
    "valorMin_CBD = [1000, 3000, 7000, 10000, 30000, 100000]\n",
    "\n",
    "valorMin_deb = [100, 500, 1000, 500, 1000, 500, 1000, 500, 1000, 500, 1000, 500, 1000, 2500, 5000, 10000, 50000, 100000]\n",
    "\n",
    "taxas_CDB = [np.random.uniform(90,120) for x in range(50)]\n",
    "\n",
    "taxas_LC_CDB = [np.random.uniform(80,105) for x in range(50)]\n",
    "\n",
    "tempoMin = [6, 12, 18, 24, 30, 36]\n",
    "\n",
    "tempoMin_deb = [72, 108, 108, 108, 108, 120, 120, 120, 144, 144, 180, 240]"
   ]
  },
  {
   "cell_type": "markdown",
   "id": "5dc40fd2-1bfd-4a99-97de-8fef2c1b9c71",
   "metadata": {
    "tags": []
   },
   "source": [
    "## CDBs: baseado no CDI"
   ]
  },
  {
   "cell_type": "code",
   "execution_count": 738,
   "id": "1fb49ee2-5341-49a5-afb5-a43e153e961b",
   "metadata": {},
   "outputs": [],
   "source": [
    "# Criando CDBs\n",
    "\n",
    "ProductType = 0\n",
    "investmentType = 1\n",
    "\n",
    "n = 100   # número de investimentos a serem criador\n",
    "\n",
    "for i in range(n):\n",
    "\n",
    "    df_input_cdb = { \n",
    "                    'Issuer':bancos[random.randint(0,3)],\n",
    "                    'ProductType':ProductType,\n",
    "                    'investmentType':investmentType,\n",
    "                    'valorMin':valorMin_CBD[random.randint(0,5)], \n",
    "                    'tempoMin':tempoMin[random.randint(0,5)],\n",
    "                    'tempoMax':0,\n",
    "                    'Taxas':int(taxas_CDB[random.randint(0, len(taxas_CDB)-1)]),\n",
    "                    'Benchmark': 'CDI'}\n",
    "\n",
    "    df_invest = df_invest.append(df_input_cdb, ignore_index=True)"
   ]
  },
  {
   "cell_type": "markdown",
   "id": "c74ba874-12c9-418e-ac2f-68d64b0636a2",
   "metadata": {
    "tags": []
   },
   "source": [
    "## LCIs"
   ]
  },
  {
   "cell_type": "markdown",
   "id": "5d76a502-4c53-4705-a0e2-95ee346781f7",
   "metadata": {
    "tags": []
   },
   "source": [
    "### CDI"
   ]
  },
  {
   "cell_type": "code",
   "execution_count": 739,
   "id": "3a8d8119-1ba6-4409-9ac9-e06bda91d8df",
   "metadata": {},
   "outputs": [],
   "source": [
    "# Criando LCIs - baseada no CDI\n",
    "\n",
    "ProductType = 0\n",
    "investmentType = 3\n",
    "\n",
    "n = 80   # número de investimentos a serem criador\n",
    "\n",
    "for i in range(n):\n",
    "\n",
    "    df_input_cdb = { \n",
    "                    'Issuer':bancos[random.randint(0,3)],\n",
    "                    'ProductType':ProductType,\n",
    "                    'investmentType':investmentType,\n",
    "                    'valorMin':valorMin_CBD[random.randint(0,5)], \n",
    "                    'tempoMin':tempoMin[random.randint(0,5)],\n",
    "                    'tempoMax':0,\n",
    "                    'Taxas':int(taxas_LC_CDB[random.randint(0, len(taxas_LC_CDB)-1)]),\n",
    "                    'Benchmark': 'CDI'}\n",
    "    df_invest = df_invest.append(df_input_cdb, ignore_index=True)"
   ]
  },
  {
   "cell_type": "markdown",
   "id": "fcedfc7c-bb24-43b0-ad17-333754485e00",
   "metadata": {
    "tags": []
   },
   "source": [
    "### IPCA"
   ]
  },
  {
   "cell_type": "code",
   "execution_count": 740,
   "id": "ffa92a96-9d00-4004-8ce2-19bdd169fbd9",
   "metadata": {},
   "outputs": [],
   "source": [
    "# Criando LCIs - baseada no IPCA\n",
    "\n",
    "ProductType = 0\n",
    "investmentType = 3\n",
    "\n",
    "n = 20   # número de investimentos a serem criador\n",
    "\n",
    "for i in range(n):\n",
    "\n",
    "    df_input_cdb = { \n",
    "                    'Issuer':bancos[random.randint(0,3)],\n",
    "                    'ProductType':ProductType,\n",
    "                    'investmentType':investmentType,\n",
    "                    'valorMin':valorMin_CBD[random.randint(0,5)], \n",
    "                    'tempoMin':tempoMin[random.randint(0,5)],\n",
    "                    'tempoMax':0,\n",
    "                    'Taxas':round(random.uniform(3, 4), 2),\n",
    "                    'Benchmark': 'IPCA'}\n",
    "\n",
    "    df_invest = df_invest.append(df_input_cdb, ignore_index=True)"
   ]
  },
  {
   "cell_type": "markdown",
   "id": "e4a24a17-ab67-405f-bb97-a255bc840fb5",
   "metadata": {
    "tags": []
   },
   "source": [
    "## LCAs"
   ]
  },
  {
   "cell_type": "markdown",
   "id": "4c1b72ba-6f62-42be-95a8-d00046ec3c30",
   "metadata": {
    "tags": []
   },
   "source": [
    "### CDI"
   ]
  },
  {
   "cell_type": "code",
   "execution_count": 741,
   "id": "d2594a49-8e23-4b19-987c-528117334d62",
   "metadata": {},
   "outputs": [],
   "source": [
    "# Criando LCAs - Baseado no CDI\n",
    "\n",
    "ProductType = 0\n",
    "investmentType = 4\n",
    "\n",
    "n = 80   # número de investimentos a serem criador\n",
    "\n",
    "for i in range(n):\n",
    "\n",
    "    df_input_cdb = { \n",
    "                    'Issuer':bancos[random.randint(0,3)],\n",
    "                    'ProductType':ProductType,\n",
    "                    'investmentType':investmentType,\n",
    "                    'valorMin':valorMin_CBD[random.randint(0,5)], \n",
    "                    'tempoMin':tempoMin[random.randint(0,5)],\n",
    "                    'tempoMax':0,\n",
    "                    'Taxas':int(taxas_LC_CDB[random.randint(0, len(taxas_LC_CDB)-1)]),\n",
    "                    'Benchmark': 'CDI'}\n",
    "\n",
    "    df_invest = df_invest.append(df_input_cdb, ignore_index=True)"
   ]
  },
  {
   "cell_type": "markdown",
   "id": "4e1198cd-e53b-4dcf-af9d-5f562ecd54b6",
   "metadata": {
    "tags": []
   },
   "source": [
    "### IPCA"
   ]
  },
  {
   "cell_type": "code",
   "execution_count": 742,
   "id": "133b1756-3cc9-4166-be8a-eb0054d0e40a",
   "metadata": {},
   "outputs": [],
   "source": [
    "# Criando LCAs - baseada no IPCA\n",
    "\n",
    "ProductType = 0\n",
    "investmentType = 4\n",
    "\n",
    "n = 20   # número de investimentos a serem criador\n",
    "\n",
    "for i in range(n):\n",
    "\n",
    "    df_input_cdb = { \n",
    "                    'Issuer':bancos[random.randint(0,3)],\n",
    "                    'ProductType':ProductType,\n",
    "                    'investmentType':investmentType,\n",
    "                    'valorMin':valorMin_CBD[random.randint(0,5)], \n",
    "                    'tempoMin':tempoMin[random.randint(0,5)],\n",
    "                    'tempoMax':0,\n",
    "                    'Taxas':round(random.uniform(3, 4), 2),\n",
    "                    'Benchmark': 'IPCA'}\n",
    "\n",
    "    df_invest = df_invest.append(df_input_cdb, ignore_index=True)"
   ]
  },
  {
   "cell_type": "markdown",
   "id": "713a018b-8d39-4e96-82c9-0525d8ea483c",
   "metadata": {
    "tags": []
   },
   "source": [
    "## Tesouro Direto"
   ]
  },
  {
   "cell_type": "markdown",
   "id": "dd2c193e-f59f-4802-bf7a-431e7d09f622",
   "metadata": {
    "tags": []
   },
   "source": [
    "### IPCA"
   ]
  },
  {
   "cell_type": "code",
   "execution_count": 743,
   "id": "ae645f6d-489f-4fe2-85ff-28ef62e0dd35",
   "metadata": {},
   "outputs": [],
   "source": [
    "# Criando Tesouro Direto - baseada no IPCA\n",
    "\n",
    "ProductType = 0\n",
    "investmentType = 5\n",
    "\n",
    "n = 20   # número de investimentos a serem criador\n",
    "\n",
    "for i in range(n):\n",
    "\n",
    "    df_input_cdb = { \n",
    "                    'Issuer':bancos[random.randint(0,3)],\n",
    "                    'ProductType':ProductType,\n",
    "                    'investmentType':investmentType,\n",
    "                    'valorMin':round(random.uniform(30, 45), 2), \n",
    "                    'tempoMin':0,\n",
    "                    'tempoMax':0,\n",
    "                    'Taxas':round(random.uniform(3, 4), 2),\n",
    "                    'Benchmark': 'IPCA'}\n",
    "\n",
    "    df_invest = df_invest.append(df_input_cdb, ignore_index=True)"
   ]
  },
  {
   "cell_type": "markdown",
   "id": "4a3f95d9-aaa1-4abc-adb7-58310fe7169e",
   "metadata": {
    "tags": []
   },
   "source": [
    "### SELIC"
   ]
  },
  {
   "cell_type": "code",
   "execution_count": 744,
   "id": "d8c4d756-99af-4d20-8fc1-81566fc40038",
   "metadata": {},
   "outputs": [],
   "source": [
    "# Criando Tesouro Direto - baseada no SELIC\n",
    "\n",
    "ProductType = 0\n",
    "investmentType = 5\n",
    "\n",
    "n = 20   # número de investimentos a serem criador\n",
    "\n",
    "for i in range(n):\n",
    "\n",
    "    df_input_cdb = { \n",
    "                    'Issuer':bancos[random.randint(0,3)],\n",
    "                    'ProductType':ProductType,\n",
    "                    'investmentType':investmentType,\n",
    "                    'valorMin':valorMin_CBD[random.randint(0,5)], \n",
    "                    'tempoMin':0,\n",
    "                    'tempoMax':0,\n",
    "                    'Taxas':round(random.uniform(0.05, 0.2), 2),\n",
    "                    'Benchmark': 'SELIC'}\n",
    "\n",
    "    df_invest = df_invest.append(df_input_cdb, ignore_index=True)"
   ]
  },
  {
   "cell_type": "markdown",
   "id": "cda33818-c47d-48a7-869c-562dda7a01d7",
   "metadata": {
    "tags": []
   },
   "source": [
    "### Pre-fixado"
   ]
  },
  {
   "cell_type": "code",
   "execution_count": 745,
   "id": "465512b9-f3df-42da-829e-b4b2d03381c7",
   "metadata": {},
   "outputs": [],
   "source": [
    "# Criando Tesouro Direto - baseada no PREFIXADO\n",
    "\n",
    "ProductType = 0\n",
    "investmentType = 5\n",
    "\n",
    "n = 20   # número de investimentos a serem criador\n",
    "\n",
    "for i in range(n):\n",
    "\n",
    "    df_input_cdb = { \n",
    "                    'Issuer':bancos[random.randint(0,3)],\n",
    "                    'ProductType':ProductType,\n",
    "                    'investmentType':investmentType,\n",
    "                    'valorMin':valorMin_CBD[random.randint(0,5)], \n",
    "                    'tempoMin':0,\n",
    "                    'tempoMax':0,\n",
    "                    'Taxas':round(random.uniform(11, 12), 2),\n",
    "                    'Benchmark': 'PRE'}\n",
    "\n",
    "    df_invest = df_invest.append(df_input_cdb, ignore_index=True)"
   ]
  },
  {
   "cell_type": "markdown",
   "id": "43fd4ca2-6e48-47c2-bcbb-931f0de7e61a",
   "metadata": {
    "tags": []
   },
   "source": [
    "## Debentures"
   ]
  },
  {
   "cell_type": "markdown",
   "id": "911f1936-8ef7-47f2-855a-3164742fc684",
   "metadata": {
    "tags": []
   },
   "source": [
    "### IPCA"
   ]
  },
  {
   "cell_type": "code",
   "execution_count": 746,
   "id": "8480eded-0192-4284-a981-dbfb6eb0475e",
   "metadata": {},
   "outputs": [],
   "source": [
    "# Criando Debentures: 4.5 -> 7.5\n",
    "# investimento inicial: 1000 -> 1200\n",
    "# Prazo: 6 -> 20\n",
    "\n",
    "ProductType = 1\n",
    "investmentType = 6\n",
    "\n",
    "n = 50   # número de investimentos a serem criador\n",
    "\n",
    "for i in range(n):\n",
    "\n",
    "    df_input_cdb = { \n",
    "                    'Issuer':bancos[random.randint(0,3)],\n",
    "                    'ProductType':ProductType,\n",
    "                    'investmentType':investmentType,\n",
    "                    'valorMin':round(random.uniform(1000, 1200), 2), \n",
    "                    'tempoMin':tempoMin_deb[random.randint(0, len(tempoMin_deb)-1)],\n",
    "                    'tempoMax':0,\n",
    "                    'Taxas':round(random.uniform(4.5, 7.5), 2),\n",
    "                    'Benchmark': 'IPCA'}\n",
    "\n",
    "    df_invest = df_invest.append(df_input_cdb, ignore_index=True)"
   ]
  },
  {
   "cell_type": "markdown",
   "id": "d00074fd-19e6-44f7-976d-adb60c6d3f5d",
   "metadata": {
    "tags": []
   },
   "source": [
    "### CDI"
   ]
  },
  {
   "cell_type": "code",
   "execution_count": 747,
   "id": "8a62bfba-1160-44f5-92e7-b8b328489079",
   "metadata": {},
   "outputs": [],
   "source": [
    "ProductType = 1\n",
    "investmentType = 6\n",
    "\n",
    "n = 20   # número de investimentos a serem criador\n",
    "\n",
    "for i in range(n):\n",
    "\n",
    "    df_input_cdb = { \n",
    "                    'Issuer':bancos[random.randint(0,3)],\n",
    "                    'ProductType':ProductType,\n",
    "                    'investmentType':investmentType,\n",
    "                    'valorMin':round(random.uniform(1000, 1200), 2), \n",
    "                    'tempoMin':tempoMin_deb[random.randint(0, len(tempoMin_deb)-1)],\n",
    "                    'tempoMax':0,\n",
    "                    'Taxas':round(random.uniform(1, 3), 2),\n",
    "                    'Benchmark': 'CDI'}\n",
    "\n",
    "    df_invest = df_invest.append(df_input_cdb, ignore_index=True)"
   ]
  },
  {
   "cell_type": "markdown",
   "id": "7f500dac-4cd2-45f8-8915-2a3f43112281",
   "metadata": {
    "tags": []
   },
   "source": [
    "## Fundos"
   ]
  },
  {
   "cell_type": "markdown",
   "id": "9fe55053-f108-465d-bfeb-b8e12c4f3c81",
   "metadata": {
    "tags": []
   },
   "source": [
    "### Fundo Renda Fixa - Pós fixado CDI"
   ]
  },
  {
   "cell_type": "code",
   "execution_count": 748,
   "id": "10c58f8a-2eff-4bba-9e17-c35d75136973",
   "metadata": {},
   "outputs": [],
   "source": [
    "ProductType = 2\n",
    "investmentType = 10\n",
    "\n",
    "n = 100   # número de investimentos a serem criador\n",
    "\n",
    "for i in range(n):\n",
    "\n",
    "    df_input_cdb = { \n",
    "                    'Issuer':bancos[random.randint(0,3)],\n",
    "                    'ProductType':ProductType,\n",
    "                    'investmentType':investmentType,\n",
    "                    'valorMin':valorMin_deb[random.randint(0, len(valorMin_deb)-1)], \n",
    "                    'tempoMin':tempoMin_deb[random.randint(0, len(tempoMin_deb)-1)],\n",
    "                    'tempoMax':0,\n",
    "                    'Taxas':round(random.uniform(-0.20, 5), 2),\n",
    "                    'Benchmark': 'CDI'}\n",
    "\n",
    "    df_invest = df_invest.append(df_input_cdb, ignore_index=True)"
   ]
  },
  {
   "cell_type": "markdown",
   "id": "8987d31a-dc8c-46b5-9d35-c9a7fad1c232",
   "metadata": {
    "tags": []
   },
   "source": [
    "### Fundo Renda Fixa - Pós Fixado IPCA"
   ]
  },
  {
   "cell_type": "code",
   "execution_count": 749,
   "id": "53c1fe0f-1b8f-4f9a-8c88-29997e339e25",
   "metadata": {},
   "outputs": [],
   "source": [
    "ProductType = 2\n",
    "investmentType = 10\n",
    "\n",
    "n = 50   # número de investimentos a serem criador\n",
    "\n",
    "for i in range(n):\n",
    "\n",
    "    df_input_cdb = { \n",
    "                    'Issuer':bancos[random.randint(0,3)],\n",
    "                    'ProductType':ProductType,\n",
    "                    'investmentType':investmentType,\n",
    "                    'valorMin':valorMin_deb[random.randint(0, len(valorMin_deb)-1)], \n",
    "                    'tempoMin':tempoMin_deb[random.randint(0, len(tempoMin_deb)-1)],\n",
    "                    'tempoMax':0,\n",
    "                    'Taxas':round(random.uniform(-0.1, 6), 2),\n",
    "                    'Benchmark': 'IPCA'}\n",
    "\n",
    "    df_invest = df_invest.append(df_input_cdb, ignore_index=True)"
   ]
  },
  {
   "cell_type": "markdown",
   "id": "b3ed9f7b-52af-49af-8405-be5073f14d54",
   "metadata": {
    "tags": []
   },
   "source": [
    "### Fundo Multimercado"
   ]
  },
  {
   "cell_type": "code",
   "execution_count": 750,
   "id": "11a00927-9fd8-4c8e-a26f-b1980e2e8e5d",
   "metadata": {},
   "outputs": [],
   "source": [
    "ProductType = 2\n",
    "investmentType = 11\n",
    "\n",
    "n = 100   # número de investimentos a serem criador\n",
    "\n",
    "for i in range(n):\n",
    "\n",
    "    df_input_cdb = { \n",
    "                    'Issuer':bancos[random.randint(0,3)],\n",
    "                    'ProductType':ProductType,\n",
    "                    'investmentType':investmentType,\n",
    "                    'valorMin':valorMin_deb[random.randint(0, len(valorMin_deb)-1)], \n",
    "                    'tempoMin':tempoMin_deb[random.randint(0, len(tempoMin_deb)-1)],\n",
    "                    'tempoMax':0,\n",
    "                    'Taxas':round(random.uniform(-0.1, 12), 2),\n",
    "                    'Benchmark': 'IPCA'}\n",
    "\n",
    "    df_invest = df_invest.append(df_input_cdb, ignore_index=True)"
   ]
  },
  {
   "cell_type": "markdown",
   "id": "e3ae0a05-270e-46d7-9472-7b16d1df1a76",
   "metadata": {},
   "source": [
    "### Fundo Renda Variável"
   ]
  },
  {
   "cell_type": "code",
   "execution_count": 751,
   "id": "81a520cb-e591-450d-ad62-453801db8a57",
   "metadata": {},
   "outputs": [],
   "source": [
    "ProductType = 2\n",
    "investmentType = 12\n",
    "\n",
    "n = 100   # número de investimentos a serem criador\n",
    "\n",
    "for i in range(n):\n",
    "\n",
    "    df_input_cdb = { \n",
    "                    'Issuer':bancos[random.randint(0,3)],\n",
    "                    'ProductType':ProductType,\n",
    "                    'investmentType':investmentType,\n",
    "                    'valorMin':valorMin_deb[random.randint(0, len(valorMin_deb)-1)], \n",
    "                    'tempoMin':tempoMin_deb[random.randint(0, len(tempoMin_deb)-1)],\n",
    "                    'tempoMax':0,\n",
    "                    'Taxas':round(random.uniform(-10, 20), 2),\n",
    "                    'Benchmark': 'IBOV'}\n",
    "\n",
    "    df_invest = df_invest.append(df_input_cdb, ignore_index=True)"
   ]
  },
  {
   "cell_type": "code",
   "execution_count": 752,
   "id": "1da02922-29da-44a0-81ca-bc6c6e49101c",
   "metadata": {},
   "outputs": [],
   "source": [
    "# Saving dataframe to excel and/or csv\n",
    "df_invest.to_csv('investimentos_bd.csv', index=False)\n",
    "df_invest.to_excel('investimentos_bd.xlsx')"
   ]
  },
  {
   "cell_type": "markdown",
   "id": "61414184-93c3-467a-a5cc-228f542e0ff6",
   "metadata": {
    "tags": []
   },
   "source": [
    "# Funções"
   ]
  },
  {
   "cell_type": "markdown",
   "id": "f964e1a8-fe55-4e78-903e-eb72bc3631c6",
   "metadata": {
    "tags": []
   },
   "source": [
    "## Calculo Valor Final de cada Investimento"
   ]
  },
  {
   "cell_type": "code",
   "execution_count": 706,
   "id": "5f1d8884-a75f-4aec-a927-9e3f4b19f022",
   "metadata": {},
   "outputs": [],
   "source": [
    "# Função para calcular o valor final de cada investimento\n",
    "\n",
    "def valor_final_invest(investmentType, aporte_inicial, aporte_mensal, meses, taxa, benchmark,\n",
    "                      cdi_hoje_mes = cdi_hoje_mes, ipca_hoje_mes = ipca_hoje_mes,\n",
    "                      cdi_hoje_ano = cdi_hoje_ano, ipca_hoje_ano = ipca_hoje_ano,\n",
    "                      selic_hoje_ano = selic_hoje_ano, ibov_hoje_ano = ibov_ano):\n",
    "    \n",
    "    valor_final = 0\n",
    "    \n",
    "    # CDB e LCI e LCA\n",
    "    if investmentType == 1 or investmentType == 3 or investmentType == 4:\n",
    "        #print('Estou Aqui! Valor agora:', valor_final)\n",
    "        #print(\"---------------------------------------\")\n",
    "        if benchmark == 'CDI':\n",
    "            juros = 1+(cdi_hoje_mes*taxa/100/100) # taxa de juros por mês da aplicação\n",
    "            for i in range(meses):\n",
    "                if i == 0:\n",
    "                    investimento = aporte_inicial*juros**(meses)\n",
    "                    valor_final = valor_final + investimento\n",
    "                    #print('Estou Aqui! Valor aporte inicial:', investimento)\n",
    "                    #print(\"---------------------------------------\")\n",
    "                else:\n",
    "                    investimento = aporte_mensal*juros**(meses-i)\n",
    "                    valor_final = valor_final + investimento\n",
    "                    #print('Estou Aqui! Valor Aporte:', i+1, investimento)\n",
    "                    #print(\"---------------------------------------\")\n",
    "        \n",
    "        # Relacionado a IPCA\n",
    "        if benchmark == 'IPCA':\n",
    "            juros = (1+(ipca_hoje_ano + taxa)/100)**(1/12) # taxa de juros por mês da aplicação\n",
    "            for i in range(meses):\n",
    "                if i == 0:\n",
    "                    investimento = aporte_inicial*juros**(meses)\n",
    "                    valor_final = valor_final + investimento\n",
    "                else:\n",
    "                    investimento = aporte_mensal*juros**(meses-i)\n",
    "                    valor_final = valor_final + investimento\n",
    "        \n",
    "    # Titulo do Tesouro\n",
    "    if investmentType == 5:\n",
    "        \n",
    "        # Relacionado a IPCA\n",
    "        if benchmark == 'IPCA':\n",
    "            juros = (1+(ipca_hoje_ano + taxa)/100)**(1/12) # taxa de juros por mês da aplicação\n",
    "            for i in range(meses):\n",
    "                if i == 0:\n",
    "                    investimento = aporte_inicial*juros**(meses)\n",
    "                    valor_final = valor_final + investimento\n",
    "                else:\n",
    "                    investimento = aporte_mensal*juros**(meses-i)\n",
    "                    valor_final = valor_final + investimento\n",
    "        \n",
    "        # Relacionado a SELIC\n",
    "        if benchmark == 'SELIC':\n",
    "            juros = (1+(selic_hoje_ano + taxa)/100)**(1/12) # taxa de juros por mês da aplicação\n",
    "            for i in range(meses):\n",
    "                if i == 0:\n",
    "                    investimento = aporte_inicial*juros**(meses)\n",
    "                    valor_final = valor_final + investimento\n",
    "                else:\n",
    "                    investimento = aporte_mensal*juros**(meses-i)\n",
    "                    valor_final = valor_final + investimento\n",
    "                        \n",
    "        # Relacionado a PRE-FIXADO\n",
    "        if benchmark == 'PRE':\n",
    "            juros = (1+(taxa/100))**(1/12) # taxa de juros por mês da aplicação\n",
    "            for i in range(meses):\n",
    "                if i == 0:\n",
    "                    investimento = aporte_inicial*juros**(meses)\n",
    "                    valor_final = valor_final + investimento\n",
    "                else:\n",
    "                    investimento = aporte_mensal*juros**(meses-i)\n",
    "                    valor_final = valor_final + investimento\n",
    "                        \n",
    "    # Debenture\n",
    "    if investmentType == 6:\n",
    "        \n",
    "        # Relacionado a IPCA\n",
    "        if benchmark == 'IPCA':\n",
    "            juros = (1+(ipca_hoje_ano + taxa)/100)**(1/12) # taxa de juros por mês da aplicação\n",
    "            for i in range(meses):\n",
    "                if i == 0:\n",
    "                    investimento = aporte_inicial*juros**(meses)\n",
    "                    valor_final = valor_final + investimento\n",
    "                else:\n",
    "                    investimento = aporte_mensal*juros**(meses-i)\n",
    "                    valor_final = valor_final + investimento\n",
    "        \n",
    "        # Relacionado a CDI\n",
    "        if benchmark == 'CDI':\n",
    "            juros = (1+(cdi_hoje_ano + taxa)/100)**(1/12) # taxa de juros por mês da aplicação\n",
    "            for i in range(meses):\n",
    "                if i == 0:\n",
    "                    investimento = aporte_inicial*juros**(meses)\n",
    "                    valor_final = valor_final + investimento\n",
    "                else:\n",
    "                    investimento = aporte_mensal*juros**(meses-i)\n",
    "                    valor_final = valor_final + investimento\n",
    "        \n",
    "    # Fundo de Renda Fixa\n",
    "    if investmentType == 10:\n",
    "        \n",
    "        # Relacionado a IPCA\n",
    "        if benchmark == 'IPCA':\n",
    "            juros = (1+(ipca_hoje_ano + taxa)/100)**(1/12) # taxa de juros por mês da aplicação\n",
    "            for i in range(meses):\n",
    "                if i == 0:\n",
    "                    investimento = aporte_inicial*juros**(meses)\n",
    "                    valor_final = valor_final + investimento\n",
    "                else:\n",
    "                    investimento = aporte_mensal*juros**(meses-i)\n",
    "                    valor_final = valor_final + investimento\n",
    "        \n",
    "        # Relacionado a CDI\n",
    "        if benchmark == 'CDI':\n",
    "            juros = (1+(cdi_hoje_ano + taxa)/100)**(1/12) # taxa de juros por mês da aplicação\n",
    "            for i in range(meses):\n",
    "                if i == 0:\n",
    "                    investimento = aporte_inicial*juros**(meses)\n",
    "                    valor_final = valor_final + investimento\n",
    "                else:\n",
    "                    investimento = aporte_mensal*juros**(meses-i)\n",
    "                    valor_final = valor_final + investimento\n",
    "\n",
    "    # Fundo Multimercado\n",
    "    if investmentType == 11:\n",
    "        \n",
    "        # Relacionado a IPCA\n",
    "        if benchmark == 'IPCA':\n",
    "            juros = (1+(ipca_hoje_ano + taxa)/100)**(1/12) # taxa de juros por mês da aplicação\n",
    "            for i in range(meses):\n",
    "                if i == 0:\n",
    "                    investimento = aporte_inicial*juros**(meses)\n",
    "                    valor_final = valor_final + investimento\n",
    "                else:\n",
    "                    investimento = aporte_mensal*juros**(meses-i)\n",
    "                    valor_final = valor_final + investimento\n",
    "                    \n",
    "    \n",
    "    # Fundo de Renda Variavel\n",
    "    if investmentType == 12:\n",
    "        \n",
    "        # Relacionado a IBOV\n",
    "        if benchmark == 'IBOV':\n",
    "            \n",
    "            juros = (1+(ibov_hoje_ano + taxa)/100)**(1/12) # taxa de juros por mês da aplicação\n",
    "            for i in range(meses):\n",
    "                if i == 0:\n",
    "                    investimento = aporte_inicial*juros**(meses)\n",
    "                    valor_final = valor_final + investimento\n",
    "                    \n",
    "                else:\n",
    "                    investimento = aporte_mensal*juros**(meses-i)\n",
    "                    valor_final = valor_final + investimento\n",
    "\n",
    "        \n",
    "        \n",
    "        \n",
    "\n",
    "    return round(valor_final, 2)\n",
    "\n",
    "    \n",
    "    "
   ]
  },
  {
   "cell_type": "markdown",
   "id": "3925515c-40b5-41d9-9679-e34fdc419117",
   "metadata": {
    "tags": []
   },
   "source": [
    "## Calcula todas as possiveis combinacoes de investimentos e as melhores baseadas no target"
   ]
  },
  {
   "cell_type": "code",
   "execution_count": 707,
   "id": "e4b68c7d-7259-4c8e-9d05-5ace229bf48e",
   "metadata": {},
   "outputs": [],
   "source": [
    "# Gera todas as combinacoes possiveis de n elementos de uma lista\n",
    "def combs(lst, n):\n",
    "    return [c for c in combinations(lst, n)], list(combinations(range(len(lst)), n))\n",
    "\n",
    "\n",
    "# Realiza a soma de todas essas combinacoes\n",
    "# Possíveis falhas na escolha:\n",
    "# Colocar investimentos ruins na lista de melhor combinação pela soma dos valores chegar mais perto do target\n",
    "# Possibilidades: colocar ranking de investimentos e utilizar esse fator no erro\n",
    "def best_match(lst, target, n):\n",
    "    best = max(combs(lst, n)[0], key=lambda c: ((sum(c) - target), len(c)))\n",
    "    \n",
    "    index_best = combs(lst,n)[0].index(best)\n",
    "    index_true = combs(lst,n)[1][index_best]\n",
    "    \n",
    "    return best, index_true"
   ]
  },
  {
   "cell_type": "markdown",
   "id": "54aa2588-b10b-43b8-99de-411029726be2",
   "metadata": {
    "tags": []
   },
   "source": [
    "## Funcao que retorna os investimentos escolhidos por nós de acordo com os parametros de entrada do cliente"
   ]
  },
  {
   "cell_type": "code",
   "execution_count": 680,
   "id": "81b6793b-b305-455b-a9b4-d26d7e9ac7b4",
   "metadata": {},
   "outputs": [],
   "source": [
    "target = 20000\n",
    "aporte_inicial = 10000\n",
    "aporte_mensal = 300\n",
    "meses = 12\n",
    "num_invest = 2 #numero de investimentos\n",
    "perfil = 1 # 1:conversador, 2:moderado, 3:agressivo\n",
    "\n",
    "# Hipoteses simplificadoras:\n",
    "# 1 - Investimentos a serem oferecidos terao o valor de aporte inicial dividido igualmente entre eles (possibilidade de melhoria)\n",
    "def best_investments(aporte_inicial, aporte_mensal, meses, target, perfil, df, max = 3):\n",
    "    \n",
    "    \n",
    "    # Realizar o calculo para n elementos de investimento a serem oferecidos e depois checar qual e o melhor\n",
    "    for n in range(max):\n",
    "        # 1 passo: calculo final dos valores de cada investimento\n",
    "        val_invest_fin = []\n",
    "        for j in range(df.shape[0]):\n",
    "            val_invest_fin.append(valor_final_invest(investmentType = df.iloc[j]['investmentType'],\n",
    "                               aporte_inicial = aporte_inicial/(n+1), aporte_mensal = aporte_mensal/(n+1), meses = meses,\n",
    "                               taxa = df.iloc[j]['Taxas'],\n",
    "                               benchmark = df.iloc[j]['Benchmark']))\n",
    "\n",
    "        # Adiciona uma coluna de valores finais dos investimentos\n",
    "        df_invest_val_fin =  df_invest.assign(ValorFinal = val_invest_fin)\n",
    "\n",
    "        # 2 passo: Filtros\n",
    "        #    - dados de acordo com os requisitos do cliente e que sejam do Safra:\n",
    "        df_invest_filtered_1 =  df_invest_val_fin.loc[(df_invest_val_fin['tempoMin'] <= meses) &\n",
    "                                                      (df_invest_val_fin['valorMin'] <= aporte_inicial/(n+1)) &\n",
    "                                                      (df_invest_val_fin['Issuer'] == 'Safra')]\n",
    "        \n",
    "        #    - retirando investimentos que não estão de acordo com o perfil do investidor:\n",
    "        if perfil == 1:\n",
    "            df_invest_filtered_2 = df_invest_filtered_1.loc[(df_invest_filtered_1['investmentType'] == 1) |\n",
    "                                                       (df_invest_filtered_1['investmentType'] == 3) |\n",
    "                                                       (df_invest_filtered_1['investmentType'] == 4) |\n",
    "                                                       (df_invest_filtered_1['investmentType'] == 5) |\n",
    "                                                       (df_invest_filtered_1['investmentType']== 10)]\n",
    "\n",
    "        if perfil == 2:\n",
    "            df_invest_filtered_2 = df_invest_filtered_1.loc[(df_invest_filtered_1['investmentType'] == 1) |\n",
    "                                                       (df_invest_filtered_1['investmentType'] == 3) |\n",
    "                                                       (df_invest_filtered_1['investmentType'] == 4) |\n",
    "                                                       (df_invest_filtered_1['investmentType'] == 5) |\n",
    "                                                       (df_invest_filtered_1['investmentType'] == 6) |\n",
    "                                                       (df_invest_filtered_1['investmentType']== 10) |\n",
    "                                                       (df_invest_filtered_1['investmentType']== 11)]\n",
    "        else: df_invest_filtered_2 = df_invest_filtered_1\n",
    "\n",
    "        if n+1 == max:\n",
    "            winner = best_match(df_invest_filtered_2['ValorFinal'], target, n=max)\n",
    "            \n",
    "        # Calculo da melhor combinacao de n investimentos que fazem o cliente chegar mais perto do valor target \n",
    "        # (possibilidade de melhoria - utilizar outras metricas nesse algoritmo)   \n",
    "        # NAO FUNCIONA -> SEMPRE DA 1 INVESTIMENTO, POIS PEGA O MELHOR DE TODOS\n",
    "#         if n == 0: \n",
    "#             winner = best_match(df_invest_filtered_2['ValorFinal'], target, n=n+1)\n",
    "            \n",
    "#             print('------------------')\n",
    "#             print(best_match(df_invest_filtered_2['ValorFinal'], target, n=n+1)[0])\n",
    "#             print(sum(best_match(df_invest_filtered_2['ValorFinal'], target, n=n+1)[0]))\n",
    "#             print(sum(best_match(df_invest_filtered_2['ValorFinal'], target, n=n+1)[0]) - target)\n",
    "\n",
    "#             erro_min_temp = (sum(best_match(df_invest_filtered_2['ValorFinal'], target, n=n+1)[0]) - target)\n",
    "#         else:\n",
    "            \n",
    "#             print('------------------')\n",
    "#             print(best_match(df_invest_filtered_2['ValorFinal'], target, n=n+1)[0])\n",
    "#             print(sum(best_match(df_invest_filtered_2['ValorFinal'], target, n=n+1)[0]))\n",
    "#             print(sum(best_match(df_invest_filtered_2['ValorFinal'], target, n=n+1)[0]) - target)\n",
    "            \n",
    "#             if (sum(best_match(df_invest_filtered_2['ValorFinal'], target, n=n+1)[0]) - target) >= erro_min_temp:\n",
    "#                 winner = best_match(df_invest_filtered_2['ValorFinal'], target, n=n+1)\n",
    "                \n",
    "#                 erro_min_temp = (sum(best_match(df_invest_filtered_2['ValorFinal'], target, n=n+1)[0]) - target )\n",
    "    list_index = list(winner[1])\n",
    "    \n",
    "    return df_invest_filtered_2.iloc[list_index,] "
   ]
  },
  {
   "cell_type": "markdown",
   "id": "df5d84f6-d259-4ea2-b7fb-36efd5f1e65d",
   "metadata": {
    "tags": []
   },
   "source": [
    "## Gera subsets de investimentos similares independente do perfil do investidor"
   ]
  },
  {
   "cell_type": "code",
   "execution_count": 418,
   "id": "ed478b89-c2b8-4698-97b4-86042af232b8",
   "metadata": {},
   "outputs": [],
   "source": [
    "# Recebe: um df já filtrado com especificacoes de tempo, aporte minimo e investimentos do safra\n",
    "# Recebe: investimento alvo que se deseja propor outros similares\n",
    "# Retorna: subset de investimentos similares \n",
    "def invest_similar(df, productType, valorFinal, dist=0.01):\n",
    "    range_min = 1 - dist\n",
    "    range_max = 1 + dist\n",
    "    \n",
    "    # Retirar os elementos ja selecionados pelo algoritmo\n",
    "    df = df.drop(list(rec.index), axis=0)\n",
    "    \n",
    "    # Filtrando pelos requisitos\n",
    "    df_similares = df.loc[(df['ValorFinal'] <= valorFinal*range_max) &\n",
    "                         (df['ValorFinal'] >= valorFinal*range_min) &\n",
    "                         (df['ProductType'] == productType)]\n",
    "    \n",
    "    return df_similares"
   ]
  },
  {
   "cell_type": "markdown",
   "id": "2bbbeb9b-0dcf-4f28-95a4-df7a7d95c23c",
   "metadata": {},
   "source": [
    "# Aplicação: selecao dos investimentos"
   ]
  },
  {
   "cell_type": "code",
   "execution_count": 766,
   "id": "0d2c14fe-db35-4909-aeaf-5fffcdd82d6d",
   "metadata": {},
   "outputs": [
    {
     "data": {
      "text/html": [
       "<div>\n",
       "<style scoped>\n",
       "    .dataframe tbody tr th:only-of-type {\n",
       "        vertical-align: middle;\n",
       "    }\n",
       "\n",
       "    .dataframe tbody tr th {\n",
       "        vertical-align: top;\n",
       "    }\n",
       "\n",
       "    .dataframe thead th {\n",
       "        text-align: right;\n",
       "    }\n",
       "</style>\n",
       "<table border=\"1\" class=\"dataframe\">\n",
       "  <thead>\n",
       "    <tr style=\"text-align: right;\">\n",
       "      <th></th>\n",
       "      <th>Issuer</th>\n",
       "      <th>ProductType</th>\n",
       "      <th>investmentType</th>\n",
       "      <th>valorMin</th>\n",
       "      <th>tempoMin</th>\n",
       "      <th>Taxas</th>\n",
       "      <th>Benchmark</th>\n",
       "      <th>tempoMax</th>\n",
       "      <th>ValorFinal</th>\n",
       "    </tr>\n",
       "  </thead>\n",
       "  <tbody>\n",
       "    <tr>\n",
       "      <th>293</th>\n",
       "      <td>Safra</td>\n",
       "      <td>0</td>\n",
       "      <td>4</td>\n",
       "      <td>1000</td>\n",
       "      <td>6</td>\n",
       "      <td>3.68</td>\n",
       "      <td>IPCA</td>\n",
       "      <td>0.0</td>\n",
       "      <td>6948.26</td>\n",
       "    </tr>\n",
       "    <tr>\n",
       "      <th>310</th>\n",
       "      <td>Safra</td>\n",
       "      <td>0</td>\n",
       "      <td>5</td>\n",
       "      <td>44.75</td>\n",
       "      <td>0</td>\n",
       "      <td>3.89</td>\n",
       "      <td>IPCA</td>\n",
       "      <td>0.0</td>\n",
       "      <td>6966.35</td>\n",
       "    </tr>\n",
       "    <tr>\n",
       "      <th>312</th>\n",
       "      <td>Safra</td>\n",
       "      <td>0</td>\n",
       "      <td>5</td>\n",
       "      <td>31.55</td>\n",
       "      <td>0</td>\n",
       "      <td>3.89</td>\n",
       "      <td>IPCA</td>\n",
       "      <td>0.0</td>\n",
       "      <td>6966.35</td>\n",
       "    </tr>\n",
       "    <tr>\n",
       "      <th>316</th>\n",
       "      <td>Safra</td>\n",
       "      <td>0</td>\n",
       "      <td>5</td>\n",
       "      <td>33.75</td>\n",
       "      <td>0</td>\n",
       "      <td>3.87</td>\n",
       "      <td>IPCA</td>\n",
       "      <td>0.0</td>\n",
       "      <td>6964.63</td>\n",
       "    </tr>\n",
       "  </tbody>\n",
       "</table>\n",
       "</div>"
      ],
      "text/plain": [
       "    Issuer ProductType investmentType valorMin tempoMin Taxas Benchmark  \\\n",
       "293  Safra           0              4     1000        6  3.68      IPCA   \n",
       "310  Safra           0              5    44.75        0  3.89      IPCA   \n",
       "312  Safra           0              5    31.55        0  3.89      IPCA   \n",
       "316  Safra           0              5    33.75        0  3.87      IPCA   \n",
       "\n",
       "     tempoMax  ValorFinal  \n",
       "293       0.0     6948.26  \n",
       "310       0.0     6966.35  \n",
       "312       0.0     6966.35  \n",
       "316       0.0     6964.63  "
      ]
     },
     "execution_count": 766,
     "metadata": {},
     "output_type": "execute_result"
    }
   ],
   "source": [
    "target = 30000\n",
    "aporte_inicial = 20000\n",
    "aporte_mensal = 200\n",
    "meses = 18\n",
    "num_invest = 4 #numero de investimentos\n",
    "perfil = 1 # 1:conversador, 2:moderado, 3:agressivo\n",
    "\n",
    "winner = best_investments(aporte_inicial, aporte_mensal, meses, target, perfil, df_invest, max = num_invest)\n",
    "winner"
   ]
  },
  {
   "cell_type": "code",
   "execution_count": 767,
   "id": "1f791ae3-319b-452b-996e-74b15b1d4437",
   "metadata": {},
   "outputs": [],
   "source": [
    "# Exporta os resultados obtidos para um json com a finalidade de enviar para o front-end\n",
    "winner.to_json(r'recomenda.json')"
   ]
  },
  {
   "cell_type": "markdown",
   "id": "f8b3fb1b-1ed7-4530-a160-9c34a9ecaf80",
   "metadata": {},
   "source": [
    "# Criando API: Interface SmartInvest Front <-> Back (em desenvolvimento)"
   ]
  },
  {
   "cell_type": "code",
   "execution_count": 779,
   "id": "7e20a242-b4b2-41a1-94b4-59b396ccc295",
   "metadata": {},
   "outputs": [],
   "source": [
    "# Importando bibliotecas\n",
    "from flask import Flask, jsonify\n",
    "\n",
    "# Inicializar flask\n",
    "app = Flask(__name__)\n",
    "\n",
    "# Construir funcionalidade\n",
    "@app.route('/get_invest_list')\n",
    "\n",
    "def homepage():\n",
    "    target = 30000\n",
    "    aporte_inicial = 20000\n",
    "    aporte_mensal = 200\n",
    "    meses = 18\n",
    "    num_invest = 4 #numero de investimentos\n",
    "    perfil = 1 # 1:conversador, 2:moderado, 3:agressivo\n",
    "    winner = best_investments(aporte_inicial, aporte_mensal, meses, target, perfil, df_invest, max = num_invest)\n",
    "    \n",
    "    return winner\n",
    "\n",
    "if __name__ == '__main__':\n",
    "    app.run"
   ]
  },
  {
   "cell_type": "markdown",
   "id": "56ed5ea9-93a1-4ee2-9614-39968a219c9b",
   "metadata": {},
   "source": [
    "## Requisição e entrada de dados"
   ]
  },
  {
   "cell_type": "code",
   "execution_count": null,
   "id": "e6c05d36-e0a4-4131-b4f6-24da394cd8e5",
   "metadata": {},
   "outputs": [],
   "source": [
    "#pegar o endpoint criado\n",
    "\n",
    "import requests\n",
    "\n",
    "requisicao = requests.get('http://127.0.0.1:5000/dados%27)\n",
    "\n",
    "print(requisicao)\n",
    "print(requisicao.json()) \n",
    "            \n",
    "informacoes = '{\"Danelichen\": \"Victor\"}'\n",
    "requisicao = requests.patch('http://127.0.0.1:5000/dados', data = informacoes)\n",
    "print(requisicao)\n",
    "print(requisicao.json())"
   ]
  },
  {
   "cell_type": "code",
   "execution_count": null,
   "id": "3f832845-f9d5-43c0-82a7-de3fa132eb00",
   "metadata": {},
   "outputs": [],
   "source": [
    "target = 30000\n",
    "aporte_inicial = 20000\n",
    "aporte_mensal = 200\n",
    "meses = 18\n",
    "num_invest = 4 #numero de investimentos\n",
    "perfil = 1 # 1:conversador, 2:moderado, 3:agressivo\n",
    "\n",
    "winner = best_investments(aporte_inicial, aporte_mensal, meses, target, perfil, df_invest, max = num_invest)\n",
    "winner"
   ]
  },
  {
   "cell_type": "markdown",
   "id": "81beeba7-5e72-40e9-9492-844be28012e0",
   "metadata": {},
   "source": [
    "# Interface de conversa com o MySQL"
   ]
  },
  {
   "cell_type": "code",
   "execution_count": 785,
   "id": "0fe5e05f-dddf-4b73-aa8a-179645105c3d",
   "metadata": {},
   "outputs": [],
   "source": [
    "# Credentials to database connection\n",
    "hostname=\"localhost\"\n",
    "dbname=\"smartinvest\"\n",
    "uname=\"root\"\n",
    "pwd=\"######\"\n",
    "\n",
    "# Criar SQLAlchemy engine para se conectar ao MySQL\n",
    "sqlEngine = create_engine(\"mysql+pymysql://{user}:{pw}@{host}/{db}\"\n",
    "\t\t\t\t.format(host=hostname, db=dbname, user=uname, pw=pwd))"
   ]
  },
  {
   "cell_type": "code",
   "execution_count": 787,
   "id": "5b0b6393-5c47-43be-93d8-666a90c891fc",
   "metadata": {},
   "outputs": [
    {
     "name": "stderr",
     "output_type": "stream",
     "text": [
      "C:\\Users\\Tharik\\AppData\\Local\\Temp/ipykernel_18312/650725075.py:3: SADeprecationWarning: The Engine.table_names() method is deprecated and will be removed in a future release.  Please refer to Inspector.get_table_names(). (deprecated since: 1.4)\n",
      "  sqlEngine.table_names()\n"
     ]
    },
    {
     "data": {
      "text/plain": [
       "['invest_db']"
      ]
     },
     "execution_count": 787,
     "metadata": {},
     "output_type": "execute_result"
    }
   ],
   "source": [
    "# Estabelecendo a conexão com o MySQL\n",
    "dbConnection = sqlEngine.connect()\n",
    "sqlEngine.table_names()"
   ]
  },
  {
   "cell_type": "code",
   "execution_count": null,
   "id": "43ee1221-4936-4711-99b5-c12e13cc9500",
   "metadata": {},
   "outputs": [],
   "source": [
    "# Envio de dados para o MySQL (utilizado por termos criado um banco de dados ficticio)\n",
    "frame = df_invest.to_sql(\"db_invest\", dbConnection, if_exists='fail')"
   ]
  },
  {
   "cell_type": "code",
   "execution_count": 791,
   "id": "12c1cfa5-f72e-4adf-97d8-ddc77a45ff29",
   "metadata": {},
   "outputs": [
    {
     "data": {
      "text/html": [
       "<div>\n",
       "<style scoped>\n",
       "    .dataframe tbody tr th:only-of-type {\n",
       "        vertical-align: middle;\n",
       "    }\n",
       "\n",
       "    .dataframe tbody tr th {\n",
       "        vertical-align: top;\n",
       "    }\n",
       "\n",
       "    .dataframe thead th {\n",
       "        text-align: right;\n",
       "    }\n",
       "</style>\n",
       "<table border=\"1\" class=\"dataframe\">\n",
       "  <thead>\n",
       "    <tr style=\"text-align: right;\">\n",
       "      <th></th>\n",
       "      <th>Issuer</th>\n",
       "      <th>ProductType</th>\n",
       "      <th>investmentType</th>\n",
       "      <th>valorMin</th>\n",
       "      <th>tempoMin</th>\n",
       "      <th>Taxas</th>\n",
       "      <th>Benchmark</th>\n",
       "      <th>tempoMax</th>\n",
       "    </tr>\n",
       "  </thead>\n",
       "  <tbody>\n",
       "    <tr>\n",
       "      <th>0</th>\n",
       "      <td>Banco C</td>\n",
       "      <td>0</td>\n",
       "      <td>1</td>\n",
       "      <td>30000</td>\n",
       "      <td>6</td>\n",
       "      <td>93</td>\n",
       "      <td>CDI</td>\n",
       "      <td>0.0</td>\n",
       "    </tr>\n",
       "    <tr>\n",
       "      <th>1</th>\n",
       "      <td>Banco B</td>\n",
       "      <td>0</td>\n",
       "      <td>1</td>\n",
       "      <td>30000</td>\n",
       "      <td>18</td>\n",
       "      <td>92</td>\n",
       "      <td>CDI</td>\n",
       "      <td>0.0</td>\n",
       "    </tr>\n",
       "    <tr>\n",
       "      <th>2</th>\n",
       "      <td>Banco B</td>\n",
       "      <td>0</td>\n",
       "      <td>1</td>\n",
       "      <td>10000</td>\n",
       "      <td>36</td>\n",
       "      <td>101</td>\n",
       "      <td>CDI</td>\n",
       "      <td>0.0</td>\n",
       "    </tr>\n",
       "    <tr>\n",
       "      <th>3</th>\n",
       "      <td>Banco C</td>\n",
       "      <td>0</td>\n",
       "      <td>1</td>\n",
       "      <td>7000</td>\n",
       "      <td>6</td>\n",
       "      <td>90</td>\n",
       "      <td>CDI</td>\n",
       "      <td>0.0</td>\n",
       "    </tr>\n",
       "    <tr>\n",
       "      <th>4</th>\n",
       "      <td>Banco C</td>\n",
       "      <td>0</td>\n",
       "      <td>1</td>\n",
       "      <td>10000</td>\n",
       "      <td>24</td>\n",
       "      <td>105</td>\n",
       "      <td>CDI</td>\n",
       "      <td>0.0</td>\n",
       "    </tr>\n",
       "    <tr>\n",
       "      <th>...</th>\n",
       "      <td>...</td>\n",
       "      <td>...</td>\n",
       "      <td>...</td>\n",
       "      <td>...</td>\n",
       "      <td>...</td>\n",
       "      <td>...</td>\n",
       "      <td>...</td>\n",
       "      <td>...</td>\n",
       "    </tr>\n",
       "    <tr>\n",
       "      <th>775</th>\n",
       "      <td>Safra</td>\n",
       "      <td>2</td>\n",
       "      <td>12</td>\n",
       "      <td>500</td>\n",
       "      <td>144</td>\n",
       "      <td>14</td>\n",
       "      <td>IBOV</td>\n",
       "      <td>0.0</td>\n",
       "    </tr>\n",
       "    <tr>\n",
       "      <th>776</th>\n",
       "      <td>Safra</td>\n",
       "      <td>2</td>\n",
       "      <td>12</td>\n",
       "      <td>1000</td>\n",
       "      <td>72</td>\n",
       "      <td>19</td>\n",
       "      <td>IBOV</td>\n",
       "      <td>0.0</td>\n",
       "    </tr>\n",
       "    <tr>\n",
       "      <th>777</th>\n",
       "      <td>Banco B</td>\n",
       "      <td>2</td>\n",
       "      <td>12</td>\n",
       "      <td>1000</td>\n",
       "      <td>108</td>\n",
       "      <td>6</td>\n",
       "      <td>IBOV</td>\n",
       "      <td>0.0</td>\n",
       "    </tr>\n",
       "    <tr>\n",
       "      <th>778</th>\n",
       "      <td>Banco C</td>\n",
       "      <td>2</td>\n",
       "      <td>12</td>\n",
       "      <td>100000</td>\n",
       "      <td>144</td>\n",
       "      <td>15</td>\n",
       "      <td>IBOV</td>\n",
       "      <td>0.0</td>\n",
       "    </tr>\n",
       "    <tr>\n",
       "      <th>779</th>\n",
       "      <td>Banco A</td>\n",
       "      <td>2</td>\n",
       "      <td>12</td>\n",
       "      <td>500</td>\n",
       "      <td>180</td>\n",
       "      <td>-5</td>\n",
       "      <td>IBOV</td>\n",
       "      <td>0.0</td>\n",
       "    </tr>\n",
       "  </tbody>\n",
       "</table>\n",
       "<p>780 rows × 8 columns</p>\n",
       "</div>"
      ],
      "text/plain": [
       "      Issuer  ProductType  investmentType  valorMin  tempoMin  Taxas  \\\n",
       "0    Banco C            0               1     30000         6     93   \n",
       "1    Banco B            0               1     30000        18     92   \n",
       "2    Banco B            0               1     10000        36    101   \n",
       "3    Banco C            0               1      7000         6     90   \n",
       "4    Banco C            0               1     10000        24    105   \n",
       "..       ...          ...             ...       ...       ...    ...   \n",
       "775    Safra            2              12       500       144     14   \n",
       "776    Safra            2              12      1000        72     19   \n",
       "777  Banco B            2              12      1000       108      6   \n",
       "778  Banco C            2              12    100000       144     15   \n",
       "779  Banco A            2              12       500       180     -5   \n",
       "\n",
       "    Benchmark  tempoMax  \n",
       "0         CDI       0.0  \n",
       "1         CDI       0.0  \n",
       "2         CDI       0.0  \n",
       "3         CDI       0.0  \n",
       "4         CDI       0.0  \n",
       "..        ...       ...  \n",
       "775      IBOV       0.0  \n",
       "776      IBOV       0.0  \n",
       "777      IBOV       0.0  \n",
       "778      IBOV       0.0  \n",
       "779      IBOV       0.0  \n",
       "\n",
       "[780 rows x 8 columns]"
      ]
     },
     "execution_count": 791,
     "metadata": {},
     "output_type": "execute_result"
    }
   ],
   "source": [
    "# Leitura dos dados dentro do MySQL\n",
    "df = pd.read_sql(\"select * from invest_db\", dbConnection);\n",
    "pd.set_option('display.max_rows', 10)\n",
    "df"
   ]
  }
 ],
 "metadata": {
  "kernelspec": {
   "display_name": "tf_26",
   "language": "python",
   "name": "tf_26"
  },
  "language_info": {
   "codemirror_mode": {
    "name": "ipython",
    "version": 3
   },
   "file_extension": ".py",
   "mimetype": "text/x-python",
   "name": "python",
   "nbconvert_exporter": "python",
   "pygments_lexer": "ipython3",
   "version": "3.8.11"
  }
 },
 "nbformat": 4,
 "nbformat_minor": 5
}
